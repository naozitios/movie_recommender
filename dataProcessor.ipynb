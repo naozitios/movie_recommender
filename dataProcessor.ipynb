{
 "cells": [
  {
   "cell_type": "markdown",
   "metadata": {},
   "source": [
    "Import"
   ]
  },
  {
   "cell_type": "code",
   "execution_count": 1,
   "metadata": {},
   "outputs": [],
   "source": [
    "import pandas as pd\n",
    "import numpy as np\n",
    "import matplotlib.pyplot as plt\n",
    "import seaborn as sns\n",
    "import warnings\n",
    "import ast\n",
    "import datetime\n",
    "from sklearn.preprocessing import MultiLabelBinarizer\n",
    "from scipy.stats import norm\n",
    "\n",
    "warnings.filterwarnings(\"ignore\")"
   ]
  },
  {
   "cell_type": "markdown",
   "metadata": {},
   "source": [
    "Merge Movies and Ratings"
   ]
  },
  {
   "cell_type": "code",
   "execution_count": 2,
   "metadata": {},
   "outputs": [],
   "source": [
    "ratings = pd.read_csv('moviesRatings/ratings.csv')\n",
    "moviesMetadata = pd.read_csv('moviesRatings/movies_metadata.csv')\n",
    "credits = pd.read_csv('moviesRatings/credits.csv')\n",
    "\n",
    "# Creating functions to extract only cast name and director names from respective columns\n",
    "# Converting the 'cast' column such that it only contains an array of the actors\n",
    "def cast_convert(x):\n",
    "    cast_names = []\n",
    "    for i in ast.literal_eval(x):\n",
    "        cast_names.append(i['name'])\n",
    "    return cast_names\n",
    "\n",
    "# Converting the 'crew' column such that it only contains an array of the director\n",
    "def director_convert(x):\n",
    "    director_names=[]\n",
    "    for i in ast.literal_eval(x):\n",
    "        if i['job']=='Director':\n",
    "            director_names.append(i['name'])\n",
    "        else:\n",
    "            continue\n",
    "    return director_names"
   ]
  },
  {
   "cell_type": "code",
   "execution_count": 4,
   "metadata": {},
   "outputs": [],
   "source": [
    "credits['cast']=credits['cast'].apply(cast_convert) # Applying the director_convert function\n",
    "credits['director']=credits['crew'].apply(director_convert) # Applying the cast_convert function\n",
    "cast_dir = credits[['id','director','cast']] # Create new dataframe with movie_id, director and cast\n",
    "cast_dir = cast_dir[cast_dir['cast'].map(lambda d: len(d)) > 0] # Removing rows where there are empty lists\n",
    "# change id dtype to int\n",
    "moviesMetadata['id'] = pd.to_numeric(moviesMetadata['id'], errors='coerce').astype('Int64')\n",
    "\n",
    "moviesMetadata = moviesMetadata.dropna(subset=[\"id\"], axis=0) # drop rows with id == NA\n",
    "merge_ratings = ratings.merge( moviesMetadata, left_on='movieId', right_on='id', how='inner') # inner join on movieID\n",
    "merge_ratings = merge_ratings.drop(columns=['movieId', 'belongs_to_collection', 'homepage', 'poster_path', 'timestamp', 'video', 'status', 'original_title'], index=1)# drop some columns \n",
    "merge_ratings = merge_ratings[merge_ratings['userId'].isin(merge_ratings[\"userId\"].value_counts()[merge_ratings[\"userId\"].value_counts() > 500].index)] # filter for users with more than 500 views\n",
    "\n",
    "#convert to the right data type\n",
    "merge_ratings[\"adult\"] = merge_ratings[\"adult\"].astype(bool)\n",
    "merge_ratings['release_date'] = pd.to_datetime(merge_ratings['release_date'])\n",
    "merge_ratings['genres'] = merge_ratings['genres'].apply(ast.literal_eval)\n",
    "merge_ratings['production_companies'] = merge_ratings['production_companies'].apply(ast.literal_eval)\n",
    "merge_ratings['production_countries'] = merge_ratings['production_countries'].apply(ast.literal_eval)\n",
    "merge_ratings['spoken_languages'] = merge_ratings['spoken_languages'].apply(ast.literal_eval)\n",
    "\n",
    "#convert the dictionaries into arrays of ids\n",
    "merge_ratings['production_countries_name'] = merge_ratings['production_countries'].apply(lambda x : [item[\"iso_3166_1\"] for item in x] if isinstance(x, list) else [])\n",
    "merge_ratings['spoken_languages_name'] = merge_ratings['spoken_languages'].apply(lambda x : [item[\"iso_639_1\"] for item in x] if isinstance(x, list) else [])\n",
    "\n",
    "merge_ratings['production_companies_name'] = merge_ratings['production_companies'].apply(lambda x : [item[\"name\"] for item in x] if isinstance(x, list) else [])\n",
    "merge_ratings['genre_name'] = merge_ratings['genres'].apply(lambda x : [item[\"name\"] for item in x] if isinstance(x, list) else [])"
   ]
  },
  {
   "cell_type": "markdown",
   "metadata": {},
   "source": [
    "# Merge Movies, Ratings, Keywords\n",
    "\n",
    "Extract keywords IDs as a new column and remove NAs"
   ]
  },
  {
   "cell_type": "code",
   "execution_count": 5,
   "metadata": {},
   "outputs": [
    {
     "name": "stdout",
     "output_type": "stream",
     "text": [
      "\n",
      "intersection   7063\n",
      "ratings+movies 7063\n",
      "keywords       45432\n",
      "\n"
     ]
    },
    {
     "data": {
      "text/html": [
       "<div>\n",
       "<style scoped>\n",
       "    .dataframe tbody tr th:only-of-type {\n",
       "        vertical-align: middle;\n",
       "    }\n",
       "\n",
       "    .dataframe tbody tr th {\n",
       "        vertical-align: top;\n",
       "    }\n",
       "\n",
       "    .dataframe thead th {\n",
       "        text-align: right;\n",
       "    }\n",
       "</style>\n",
       "<table border=\"1\" class=\"dataframe\">\n",
       "  <thead>\n",
       "    <tr style=\"text-align: right;\">\n",
       "      <th></th>\n",
       "      <th>keywords</th>\n",
       "      <th>keywords_id</th>\n",
       "    </tr>\n",
       "  </thead>\n",
       "  <tbody>\n",
       "    <tr>\n",
       "      <th>0</th>\n",
       "      <td>[{'id': 934, 'name': 'judge'}, {'id': 1533, 'n...</td>\n",
       "      <td>[934, 1533, 2863, 4918, 5259, 5260, 9935, 15162]</td>\n",
       "    </tr>\n",
       "    <tr>\n",
       "      <th>1</th>\n",
       "      <td>[{'id': 934, 'name': 'judge'}, {'id': 1533, 'n...</td>\n",
       "      <td>[934, 1533, 2863, 4918, 5259, 5260, 9935, 15162]</td>\n",
       "    </tr>\n",
       "    <tr>\n",
       "      <th>2</th>\n",
       "      <td>[{'id': 934, 'name': 'judge'}, {'id': 1533, 'n...</td>\n",
       "      <td>[934, 1533, 2863, 4918, 5259, 5260, 9935, 15162]</td>\n",
       "    </tr>\n",
       "    <tr>\n",
       "      <th>3</th>\n",
       "      <td>[{'id': 934, 'name': 'judge'}, {'id': 1533, 'n...</td>\n",
       "      <td>[934, 1533, 2863, 4918, 5259, 5260, 9935, 15162]</td>\n",
       "    </tr>\n",
       "    <tr>\n",
       "      <th>4</th>\n",
       "      <td>[{'id': 934, 'name': 'judge'}, {'id': 1533, 'n...</td>\n",
       "      <td>[934, 1533, 2863, 4918, 5259, 5260, 9935, 15162]</td>\n",
       "    </tr>\n",
       "    <tr>\n",
       "      <th>...</th>\n",
       "      <td>...</td>\n",
       "      <td>...</td>\n",
       "    </tr>\n",
       "    <tr>\n",
       "      <th>775442</th>\n",
       "      <td>[{'id': 10768, 'name': 'lesbian'}, {'id': 1870...</td>\n",
       "      <td>[10768, 187056, 208508]</td>\n",
       "    </tr>\n",
       "    <tr>\n",
       "      <th>775443</th>\n",
       "      <td>[{'id': 187056, 'name': 'woman director'}]</td>\n",
       "      <td>[187056]</td>\n",
       "    </tr>\n",
       "    <tr>\n",
       "      <th>775444</th>\n",
       "      <td>[{'id': 154802, 'name': 'silent film'}]</td>\n",
       "      <td>[154802]</td>\n",
       "    </tr>\n",
       "    <tr>\n",
       "      <th>775445</th>\n",
       "      <td>[{'id': 849, 'name': 'dc comics'}, {'id': 9715...</td>\n",
       "      <td>[849, 9715, 11134, 163455, 179991]</td>\n",
       "    </tr>\n",
       "    <tr>\n",
       "      <th>775446</th>\n",
       "      <td>[{'id': 2957, 'name': 'vietnam war'}, {'id': 3...</td>\n",
       "      <td>[2957, 33564, 165431, 169123, 222811]</td>\n",
       "    </tr>\n",
       "  </tbody>\n",
       "</table>\n",
       "<p>775447 rows × 2 columns</p>\n",
       "</div>"
      ],
      "text/plain": [
       "                                                 keywords  \\\n",
       "0       [{'id': 934, 'name': 'judge'}, {'id': 1533, 'n...   \n",
       "1       [{'id': 934, 'name': 'judge'}, {'id': 1533, 'n...   \n",
       "2       [{'id': 934, 'name': 'judge'}, {'id': 1533, 'n...   \n",
       "3       [{'id': 934, 'name': 'judge'}, {'id': 1533, 'n...   \n",
       "4       [{'id': 934, 'name': 'judge'}, {'id': 1533, 'n...   \n",
       "...                                                   ...   \n",
       "775442  [{'id': 10768, 'name': 'lesbian'}, {'id': 1870...   \n",
       "775443         [{'id': 187056, 'name': 'woman director'}]   \n",
       "775444            [{'id': 154802, 'name': 'silent film'}]   \n",
       "775445  [{'id': 849, 'name': 'dc comics'}, {'id': 9715...   \n",
       "775446  [{'id': 2957, 'name': 'vietnam war'}, {'id': 3...   \n",
       "\n",
       "                                             keywords_id  \n",
       "0       [934, 1533, 2863, 4918, 5259, 5260, 9935, 15162]  \n",
       "1       [934, 1533, 2863, 4918, 5259, 5260, 9935, 15162]  \n",
       "2       [934, 1533, 2863, 4918, 5259, 5260, 9935, 15162]  \n",
       "3       [934, 1533, 2863, 4918, 5259, 5260, 9935, 15162]  \n",
       "4       [934, 1533, 2863, 4918, 5259, 5260, 9935, 15162]  \n",
       "...                                                  ...  \n",
       "775442                           [10768, 187056, 208508]  \n",
       "775443                                          [187056]  \n",
       "775444                                          [154802]  \n",
       "775445                [849, 9715, 11134, 163455, 179991]  \n",
       "775446             [2957, 33564, 165431, 169123, 222811]  \n",
       "\n",
       "[775447 rows x 2 columns]"
      ]
     },
     "execution_count": 5,
     "metadata": {},
     "output_type": "execute_result"
    }
   ],
   "source": [
    "keywords = pd.read_csv('moviesRatings/keywords.csv') # Contains the movie plot keywords for our MovieLens movies collected from the TMDB \n",
    "keywords # id corresponds to movieID\n",
    "cast_kw = pd.merge(cast_dir, keywords, on=\"id\", how=\"left\")\n",
    "merge_kw = merge_ratings.merge(cast_kw, left_on=\"id\", right_on=\"id\", how=\"left\")\n",
    "\n",
    "print(f\"\"\"\n",
    "intersection   {len(set(merge_ratings[\"id\"]).intersection(set(keywords[\"id\"])))}\n",
    "ratings+movies {len(set(merge_ratings[\"id\"]))}\n",
    "keywords       {len(set(keywords[\"id\"]))}\n",
    "\"\"\")\n",
    "\n",
    "merge_kw[\"keywords\"].value_counts(dropna=False) # IDs in keywords are all present in ratings + movies df\n",
    "merge_kw = merge_kw.dropna(subset=[\"keywords\"], axis=0) \n",
    "merge_kw = merge_kw[merge_kw[\"keywords\"] != \"[]\"].reset_index(drop=True) # drop rows without any keywords\n",
    "\n",
    "def extract_ids(json_string):\n",
    "    lst_of_ids = []\n",
    "    lst_of_kw = ast.literal_eval(json_string)\n",
    "    for d in lst_of_kw:\n",
    "        id = d[\"id\"]\n",
    "        lst_of_ids.append(id)\n",
    "    return lst_of_ids \n",
    "\n",
    "merge_kw['keywords_id'] = merge_kw.apply(lambda row: extract_ids(row[\"keywords\"]), axis=1) # get new column, each row contains list of the movie's keywords IDs"
   ]
  },
  {
   "cell_type": "markdown",
   "metadata": {},
   "source": [
    "Merge Movies, Ratings, Keywords, Sentiment Scores"
   ]
  },
  {
   "cell_type": "code",
   "execution_count": 6,
   "metadata": {},
   "outputs": [],
   "source": [
    "sentiment = pd.read_csv(\"moviesRatings/reddit_sentiment_scores.csv\")\n",
    "result = pd.merge(merge_kw, sentiment, left_on=\"title\", right_on=\"movie_title\", how=\"left\")\n",
    "result = result.dropna(subset=\"average_sentiment\")# drop rows without sentiment score\n",
    "#result.to_csv(\"merged_dfs.csv\", index=False)"
   ]
  }
 ],
 "metadata": {
  "kernelspec": {
   "display_name": "Python 3",
   "language": "python",
   "name": "python3"
  },
  "language_info": {
   "codemirror_mode": {
    "name": "ipython",
    "version": 3
   },
   "file_extension": ".py",
   "mimetype": "text/x-python",
   "name": "python",
   "nbconvert_exporter": "python",
   "pygments_lexer": "ipython3",
   "version": "3.11.7"
  }
 },
 "nbformat": 4,
 "nbformat_minor": 2
}
